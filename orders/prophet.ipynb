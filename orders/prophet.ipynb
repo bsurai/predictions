{
 "cells": [
  {
   "cell_type": "code",
   "execution_count": null,
   "metadata": {},
   "outputs": [],
   "source": [
    "import pandas as pd\n",
    "from prophet import Prophet\n",
    "import matplotlib.pyplot as plt\n",
    "\n",
    "def preprocess(data, split_date):\n",
    "    column_mapping = {\n",
    "        'date': 'ds',\n",
    "        'orders': 'y',\n",
    "    }\n",
    "    data.rename(columns=column_mapping, inplace=True)\n",
    "    data['ds'] = pd.to_datetime(data['ds'])\n",
    "    #print(data.head())\n",
    "\n",
    "    train_data = data[data['ds'] < split_date]  # Дані до вказаної дати\n",
    "    actual_data = data[data['ds'] >= split_date]   # Дані після вказаної дати\n",
    "    return train_data, actual_data\n",
    "\n",
    "def predict(train_data, periods):\n",
    "    model = Prophet()\n",
    "    model.fit(train_data)\n",
    "\n",
    "    future = model.make_future_dataframe(periods=28, include_history=False)\n",
    "    forecast = model.predict(future)\n",
    "    model.plot_components(forecast)\n",
    "    return forecast\n",
    "\n",
    "def plot(train_data, forecast, comparison_df, yhat, periods):\n",
    "    # Візуалізація прогнозу та фактичних даних\n",
    "    plt.figure(figsize=(10, 6))\n",
    "    plt.plot(train_data['ds'].head(periods), train_data['y'].head(periods), label='Тренувальні дані')\n",
    "    plt.plot(forecast['ds'], forecast[yhat], label='Прогноз', linestyle='--')\n",
    "    plt.plot(comparison_df['ds'], comparison_df['y'], label='Фактичні дані', linestyle=':', marker='o')\n",
    "    plt.fill_between(forecast['ds'], forecast['yhat_lower'], forecast['yhat_upper'], color='gray', alpha=0.2)\n",
    "    plt.legend()\n",
    "    plt.xlabel('Дата')\n",
    "    plt.ylabel('Цільова змінна')\n",
    "    plt.title('Прогноз Prophet та фактичні дані')\n",
    "    plt.show()"
   ]
  },
  {
   "cell_type": "code",
   "execution_count": null,
   "metadata": {},
   "outputs": [],
   "source": [
    "file_path = 'files/orders_till_2024-11-10.csv'\n",
    "split_date = '2024-11-01'\n",
    "predict_periods = 28\n",
    "\n",
    "data = pd.read_csv(file_path, usecols=['date', 'orders'])\n",
    "train_data, actual_data = preprocess(data, split_date)\n",
    "forecast = predict(train_data, predict_periods)\n",
    "\n",
    "yhat = 'yhat'\n",
    "comparison_df = forecast[['ds', yhat]].merge(actual_data, on='ds', how='left')\n",
    "#print(comparison_df.tail(20))\n",
    "\n",
    "plot(train_data, forecast, comparison_df, yhat, predict_periods)"
   ]
  }
 ],
 "metadata": {
  "kernelspec": {
   "display_name": "Python 3",
   "language": "python",
   "name": "python3"
  },
  "language_info": {
   "name": "python",
   "version": "3.10.12"
  }
 },
 "nbformat": 4,
 "nbformat_minor": 2
}
